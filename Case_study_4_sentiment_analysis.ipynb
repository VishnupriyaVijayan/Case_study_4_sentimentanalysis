{
  "nbformat": 4,
  "nbformat_minor": 0,
  "metadata": {
    "colab": {
      "provenance": []
    },
    "kernelspec": {
      "name": "python3",
      "display_name": "Python 3"
    },
    "language_info": {
      "name": "python"
    },
    "accelerator": "GPU",
    "gpuClass": "standard"
  },
  "cells": [
    {
      "cell_type": "code",
      "execution_count": 1,
      "metadata": {
        "id": "t2coeQyjs2vg"
      },
      "outputs": [],
      "source": [
        "import pandas as pd\n",
        "import numpy as np\n",
        "import matplotlib.pyplot as plt\n",
        "import seaborn as sns"
      ]
    },
    {
      "cell_type": "code",
      "source": [
        "## READ AND ANALYZE DATA"
      ],
      "metadata": {
        "id": "6GUYrXukxXX-"
      },
      "execution_count": 2,
      "outputs": []
    },
    {
      "cell_type": "code",
      "source": [
        "filepath='judge-1377884607_tweet_product_company.csv'\n",
        "data =pd.read_csv(filepath, encoding='unicode_escape')\n",
        "data.head()"
      ],
      "metadata": {
        "colab": {
          "base_uri": "https://localhost:8080/",
          "height": 206
        },
        "id": "xpXdITy4tn9Z",
        "outputId": "3b1fc22f-5064-4fb2-ae29-b75b28810bf6"
      },
      "execution_count": 3,
      "outputs": [
        {
          "output_type": "execute_result",
          "data": {
            "text/plain": [
              "                                          tweet_text  \\\n",
              "0  .@wesley83 I have a 3G iPhone. After 3 hrs twe...   \n",
              "1  @jessedee Know about @fludapp ? Awesome iPad/i...   \n",
              "2  @swonderlin Can not wait for #iPad 2 also. The...   \n",
              "3  @sxsw I hope this year's festival isn't as cra...   \n",
              "4  @sxtxstate great stuff on Fri #SXSW: Marissa M...   \n",
              "\n",
              "  emotion_in_tweet_is_directed_at  \\\n",
              "0                          iPhone   \n",
              "1              iPad or iPhone App   \n",
              "2                            iPad   \n",
              "3              iPad or iPhone App   \n",
              "4                          Google   \n",
              "\n",
              "  is_there_an_emotion_directed_at_a_brand_or_product  \n",
              "0                                   Negative emotion  \n",
              "1                                   Positive emotion  \n",
              "2                                   Positive emotion  \n",
              "3                                   Negative emotion  \n",
              "4                                   Positive emotion  "
            ],
            "text/html": [
              "\n",
              "  <div id=\"df-4bae7c71-b1b5-4c3a-9063-6c2c103d187e\">\n",
              "    <div class=\"colab-df-container\">\n",
              "      <div>\n",
              "<style scoped>\n",
              "    .dataframe tbody tr th:only-of-type {\n",
              "        vertical-align: middle;\n",
              "    }\n",
              "\n",
              "    .dataframe tbody tr th {\n",
              "        vertical-align: top;\n",
              "    }\n",
              "\n",
              "    .dataframe thead th {\n",
              "        text-align: right;\n",
              "    }\n",
              "</style>\n",
              "<table border=\"1\" class=\"dataframe\">\n",
              "  <thead>\n",
              "    <tr style=\"text-align: right;\">\n",
              "      <th></th>\n",
              "      <th>tweet_text</th>\n",
              "      <th>emotion_in_tweet_is_directed_at</th>\n",
              "      <th>is_there_an_emotion_directed_at_a_brand_or_product</th>\n",
              "    </tr>\n",
              "  </thead>\n",
              "  <tbody>\n",
              "    <tr>\n",
              "      <th>0</th>\n",
              "      <td>.@wesley83 I have a 3G iPhone. After 3 hrs twe...</td>\n",
              "      <td>iPhone</td>\n",
              "      <td>Negative emotion</td>\n",
              "    </tr>\n",
              "    <tr>\n",
              "      <th>1</th>\n",
              "      <td>@jessedee Know about @fludapp ? Awesome iPad/i...</td>\n",
              "      <td>iPad or iPhone App</td>\n",
              "      <td>Positive emotion</td>\n",
              "    </tr>\n",
              "    <tr>\n",
              "      <th>2</th>\n",
              "      <td>@swonderlin Can not wait for #iPad 2 also. The...</td>\n",
              "      <td>iPad</td>\n",
              "      <td>Positive emotion</td>\n",
              "    </tr>\n",
              "    <tr>\n",
              "      <th>3</th>\n",
              "      <td>@sxsw I hope this year's festival isn't as cra...</td>\n",
              "      <td>iPad or iPhone App</td>\n",
              "      <td>Negative emotion</td>\n",
              "    </tr>\n",
              "    <tr>\n",
              "      <th>4</th>\n",
              "      <td>@sxtxstate great stuff on Fri #SXSW: Marissa M...</td>\n",
              "      <td>Google</td>\n",
              "      <td>Positive emotion</td>\n",
              "    </tr>\n",
              "  </tbody>\n",
              "</table>\n",
              "</div>\n",
              "      <button class=\"colab-df-convert\" onclick=\"convertToInteractive('df-4bae7c71-b1b5-4c3a-9063-6c2c103d187e')\"\n",
              "              title=\"Convert this dataframe to an interactive table.\"\n",
              "              style=\"display:none;\">\n",
              "        \n",
              "  <svg xmlns=\"http://www.w3.org/2000/svg\" height=\"24px\"viewBox=\"0 0 24 24\"\n",
              "       width=\"24px\">\n",
              "    <path d=\"M0 0h24v24H0V0z\" fill=\"none\"/>\n",
              "    <path d=\"M18.56 5.44l.94 2.06.94-2.06 2.06-.94-2.06-.94-.94-2.06-.94 2.06-2.06.94zm-11 1L8.5 8.5l.94-2.06 2.06-.94-2.06-.94L8.5 2.5l-.94 2.06-2.06.94zm10 10l.94 2.06.94-2.06 2.06-.94-2.06-.94-.94-2.06-.94 2.06-2.06.94z\"/><path d=\"M17.41 7.96l-1.37-1.37c-.4-.4-.92-.59-1.43-.59-.52 0-1.04.2-1.43.59L10.3 9.45l-7.72 7.72c-.78.78-.78 2.05 0 2.83L4 21.41c.39.39.9.59 1.41.59.51 0 1.02-.2 1.41-.59l7.78-7.78 2.81-2.81c.8-.78.8-2.07 0-2.86zM5.41 20L4 18.59l7.72-7.72 1.47 1.35L5.41 20z\"/>\n",
              "  </svg>\n",
              "      </button>\n",
              "      \n",
              "  <style>\n",
              "    .colab-df-container {\n",
              "      display:flex;\n",
              "      flex-wrap:wrap;\n",
              "      gap: 12px;\n",
              "    }\n",
              "\n",
              "    .colab-df-convert {\n",
              "      background-color: #E8F0FE;\n",
              "      border: none;\n",
              "      border-radius: 50%;\n",
              "      cursor: pointer;\n",
              "      display: none;\n",
              "      fill: #1967D2;\n",
              "      height: 32px;\n",
              "      padding: 0 0 0 0;\n",
              "      width: 32px;\n",
              "    }\n",
              "\n",
              "    .colab-df-convert:hover {\n",
              "      background-color: #E2EBFA;\n",
              "      box-shadow: 0px 1px 2px rgba(60, 64, 67, 0.3), 0px 1px 3px 1px rgba(60, 64, 67, 0.15);\n",
              "      fill: #174EA6;\n",
              "    }\n",
              "\n",
              "    [theme=dark] .colab-df-convert {\n",
              "      background-color: #3B4455;\n",
              "      fill: #D2E3FC;\n",
              "    }\n",
              "\n",
              "    [theme=dark] .colab-df-convert:hover {\n",
              "      background-color: #434B5C;\n",
              "      box-shadow: 0px 1px 3px 1px rgba(0, 0, 0, 0.15);\n",
              "      filter: drop-shadow(0px 1px 2px rgba(0, 0, 0, 0.3));\n",
              "      fill: #FFFFFF;\n",
              "    }\n",
              "  </style>\n",
              "\n",
              "      <script>\n",
              "        const buttonEl =\n",
              "          document.querySelector('#df-4bae7c71-b1b5-4c3a-9063-6c2c103d187e button.colab-df-convert');\n",
              "        buttonEl.style.display =\n",
              "          google.colab.kernel.accessAllowed ? 'block' : 'none';\n",
              "\n",
              "        async function convertToInteractive(key) {\n",
              "          const element = document.querySelector('#df-4bae7c71-b1b5-4c3a-9063-6c2c103d187e');\n",
              "          const dataTable =\n",
              "            await google.colab.kernel.invokeFunction('convertToInteractive',\n",
              "                                                     [key], {});\n",
              "          if (!dataTable) return;\n",
              "\n",
              "          const docLinkHtml = 'Like what you see? Visit the ' +\n",
              "            '<a target=\"_blank\" href=https://colab.research.google.com/notebooks/data_table.ipynb>data table notebook</a>'\n",
              "            + ' to learn more about interactive tables.';\n",
              "          element.innerHTML = '';\n",
              "          dataTable['output_type'] = 'display_data';\n",
              "          await google.colab.output.renderOutput(dataTable, element);\n",
              "          const docLink = document.createElement('div');\n",
              "          docLink.innerHTML = docLinkHtml;\n",
              "          element.appendChild(docLink);\n",
              "        }\n",
              "      </script>\n",
              "    </div>\n",
              "  </div>\n",
              "  "
            ]
          },
          "metadata": {},
          "execution_count": 3
        }
      ]
    },
    {
      "cell_type": "code",
      "source": [
        "data.info()"
      ],
      "metadata": {
        "colab": {
          "base_uri": "https://localhost:8080/"
        },
        "id": "P25thQWLt1Ni",
        "outputId": "c073cdd6-1813-4e6e-d9aa-aa24eacbf531"
      },
      "execution_count": 4,
      "outputs": [
        {
          "output_type": "stream",
          "name": "stdout",
          "text": [
            "<class 'pandas.core.frame.DataFrame'>\n",
            "RangeIndex: 9093 entries, 0 to 9092\n",
            "Data columns (total 3 columns):\n",
            " #   Column                                              Non-Null Count  Dtype \n",
            "---  ------                                              --------------  ----- \n",
            " 0   tweet_text                                          9092 non-null   object\n",
            " 1   emotion_in_tweet_is_directed_at                     3291 non-null   object\n",
            " 2   is_there_an_emotion_directed_at_a_brand_or_product  9093 non-null   object\n",
            "dtypes: object(3)\n",
            "memory usage: 213.2+ KB\n"
          ]
        }
      ]
    },
    {
      "cell_type": "code",
      "source": [
        "data.isna().sum()"
      ],
      "metadata": {
        "colab": {
          "base_uri": "https://localhost:8080/"
        },
        "id": "p2CGDpdtvmuN",
        "outputId": "2154e69d-57c7-4f8e-823d-bfe9dfdc219a"
      },
      "execution_count": 5,
      "outputs": [
        {
          "output_type": "execute_result",
          "data": {
            "text/plain": [
              "tweet_text                                               1\n",
              "emotion_in_tweet_is_directed_at                       5802\n",
              "is_there_an_emotion_directed_at_a_brand_or_product       0\n",
              "dtype: int64"
            ]
          },
          "metadata": {},
          "execution_count": 5
        }
      ]
    },
    {
      "cell_type": "code",
      "source": [
        "data.tweet_text.value_counts()"
      ],
      "metadata": {
        "colab": {
          "base_uri": "https://localhost:8080/"
        },
        "id": "Go08RNurvrGr",
        "outputId": "0926974f-9897-451c-c84a-02677812c12e"
      },
      "execution_count": 6,
      "outputs": [
        {
          "output_type": "execute_result",
          "data": {
            "text/plain": [
              "RT @mention Marissa Mayer: Google Will Connect the Digital &amp; Physical Worlds Through Mobile - {link} #sxsw                                 5\n",
              "RT @mention Google to Launch Major New Social Network Called Circles, Possibly Today {link} #sxsw                                              4\n",
              "RT @mention Marissa Mayer: Google Will Connect the Digital &amp; Physical Worlds Through Mobile - {link} #SXSW                                 4\n",
              "RT @mention Google to Launch Major New Social Network Called Circles, Possibly Today {link} #SXSW                                              3\n",
              "RT @mention ÷¼ GO BEYOND BORDERS! ÷_ {link} ã_ #edchat #musedchat #sxsw #sxswi #classical #newTwitter                                       2\n",
              "                                                                                                                                              ..\n",
              "Great interview to @mention on Bloomberg TV about #Ipad2 to kick off #SxSW.#apple {link}                                                       1\n",
              "Texas Observer Tomlinson says they would double revenue per issue with iPad subscriptions. #newsapps #sxsw                                     1\n",
              "Don't understand people who paid and travelled all the way to #sxsw would wait for hours to get ipad2, esp. when they already have an ipad.    1\n",
              "More farmers use BlackBerry than iPhone, but iPad is catching on because of bigger screen. #mobilefarm #sxsw                                   1\n",
              "Ï¡Ïàü_ÊÎÒ£Áââ_£â_ÛâRT @mention Google Tests ÛÏCheck-in OffersÛ At #SXSW {link}                                       1\n",
              "Name: tweet_text, Length: 9065, dtype: int64"
            ]
          },
          "metadata": {},
          "execution_count": 6
        }
      ]
    },
    {
      "cell_type": "code",
      "source": [
        "data.emotion_in_tweet_is_directed_at.value_counts()"
      ],
      "metadata": {
        "colab": {
          "base_uri": "https://localhost:8080/"
        },
        "id": "MWaOuNo5v3Rx",
        "outputId": "94fe91c5-0806-4083-945f-07b26282efe4"
      },
      "execution_count": 7,
      "outputs": [
        {
          "output_type": "execute_result",
          "data": {
            "text/plain": [
              "iPad                               946\n",
              "Apple                              661\n",
              "iPad or iPhone App                 470\n",
              "Google                             430\n",
              "iPhone                             297\n",
              "Other Google product or service    293\n",
              "Android App                         81\n",
              "Android                             78\n",
              "Other Apple product or service      35\n",
              "Name: emotion_in_tweet_is_directed_at, dtype: int64"
            ]
          },
          "metadata": {},
          "execution_count": 7
        }
      ]
    },
    {
      "cell_type": "code",
      "source": [
        "data.is_there_an_emotion_directed_at_a_brand_or_product.value_counts()"
      ],
      "metadata": {
        "colab": {
          "base_uri": "https://localhost:8080/"
        },
        "id": "CPrHiia-v99y",
        "outputId": "40a437d0-d758-44f0-a594-45d04a04a27b"
      },
      "execution_count": 8,
      "outputs": [
        {
          "output_type": "execute_result",
          "data": {
            "text/plain": [
              "No emotion toward brand or product    5389\n",
              "Positive emotion                      2978\n",
              "Negative emotion                       570\n",
              "I can't tell                           156\n",
              "Name: is_there_an_emotion_directed_at_a_brand_or_product, dtype: int64"
            ]
          },
          "metadata": {},
          "execution_count": 8
        }
      ]
    },
    {
      "cell_type": "code",
      "source": [
        "fig =  plt.figure(figsize=(8,4))\n",
        "sns.countplot(x='is_there_an_emotion_directed_at_a_brand_or_product', data=data)"
      ],
      "metadata": {
        "colab": {
          "base_uri": "https://localhost:8080/",
          "height": 297
        },
        "id": "jCfFvljtuwgt",
        "outputId": "7b4a380b-32ff-43e4-ce57-f71a9f9fc412"
      },
      "execution_count": 9,
      "outputs": [
        {
          "output_type": "execute_result",
          "data": {
            "text/plain": [
              "<matplotlib.axes._subplots.AxesSubplot at 0x7fc45d936580>"
            ]
          },
          "metadata": {},
          "execution_count": 9
        },
        {
          "output_type": "display_data",
          "data": {
            "text/plain": [
              "<Figure size 576x288 with 1 Axes>"
            ],
            "image/png": "[encoded data removed]"
          },
          "metadata": {
            "needs_background": "light"
          }
        }
      ]
    },
    {
      "cell_type": "code",
      "source": [
        "fig =  plt.figure(figsize=(12,6))\n",
        "sns.countplot(x='emotion_in_tweet_is_directed_at', data=data)\n",
        "plt.xticks(rotation=60)"
      ],
      "metadata": {
        "colab": {
          "base_uri": "https://localhost:8080/",
          "height": 558
        },
        "id": "yT1nHtJ8u9TX",
        "outputId": "6f87332d-e866-4bc6-99f0-056b6bb8de44"
      },
      "execution_count": 10,
      "outputs": [
        {
          "output_type": "execute_result",
          "data": {
            "text/plain": [
              "(array([0, 1, 2, 3, 4, 5, 6, 7, 8]),\n",
              " <a list of 9 Text major ticklabel objects>)"
            ]
          },
          "metadata": {},
          "execution_count": 10
        },
        {
          "output_type": "display_data",
          "data": {
            "text/plain": [
              "<Figure size 864x432 with 1 Axes>"
            ],
            "image/png": "[encoded data removed]"
          },
          "metadata": {
            "needs_background": "light"
          }
        }
      ]
    },
    {
      "cell_type": "code",
      "source": [
        "## DATA CLEANING"
      ],
      "metadata": {
        "id": "r6yyJQ_LxNe5"
      },
      "execution_count": 11,
      "outputs": []
    },
    {
      "cell_type": "code",
      "source": [
        "df = data.copy(deep=True)\n",
        "df.drop_duplicates(subset=['tweet_text'], inplace=True) # contains duplicate entries\n",
        "df.dropna(subset=['tweet_text'], inplace=True) # only one missing row\n",
        "df.rename(columns = {'emotion_in_tweet_is_directed_at':'brand_item', 'is_there_an_emotion_directed_at_a_brand_or_product':'emotion'}, inplace=True)"
      ],
      "metadata": {
        "id": "esLKzpVuvREc"
      },
      "execution_count": 12,
      "outputs": []
    },
    {
      "cell_type": "code",
      "source": [
        "df.head()"
      ],
      "metadata": {
        "colab": {
          "base_uri": "https://localhost:8080/",
          "height": 206
        },
        "id": "KR-49TzhwZ4M",
        "outputId": "87b18575-2135-4d7a-efd4-5b115bbe0841"
      },
      "execution_count": 13,
      "outputs": [
        {
          "output_type": "execute_result",
          "data": {
            "text/plain": [
              "                                          tweet_text          brand_item  \\\n",
              "0  .@wesley83 I have a 3G iPhone. After 3 hrs twe...              iPhone   \n",
              "1  @jessedee Know about @fludapp ? Awesome iPad/i...  iPad or iPhone App   \n",
              "2  @swonderlin Can not wait for #iPad 2 also. The...                iPad   \n",
              "3  @sxsw I hope this year's festival isn't as cra...  iPad or iPhone App   \n",
              "4  @sxtxstate great stuff on Fri #SXSW: Marissa M...              Google   \n",
              "\n",
              "            emotion  \n",
              "0  Negative emotion  \n",
              "1  Positive emotion  \n",
              "2  Positive emotion  \n",
              "3  Negative emotion  \n",
              "4  Positive emotion  "
            ],
            "text/html": [
              "\n",
              "  <div id=\"df-54f949f3-b71f-48e8-8d9d-75af7de87141\">\n",
              "    <div class=\"colab-df-container\">\n",
              "      <div>\n",
              "<style scoped>\n",
              "    .dataframe tbody tr th:only-of-type {\n",
              "        vertical-align: middle;\n",
              "    }\n",
              "\n",
              "    .dataframe tbody tr th {\n",
              "        vertical-align: top;\n",
              "    }\n",
              "\n",
              "    .dataframe thead th {\n",
              "        text-align: right;\n",
              "    }\n",
              "</style>\n",
              "<table border=\"1\" class=\"dataframe\">\n",
              "  <thead>\n",
              "    <tr style=\"text-align: right;\">\n",
              "      <th></th>\n",
              "      <th>tweet_text</th>\n",
              "      <th>brand_item</th>\n",
              "      <th>emotion</th>\n",
              "    </tr>\n",
              "  </thead>\n",
              "  <tbody>\n",
              "    <tr>\n",
              "      <th>0</th>\n",
              "      <td>.@wesley83 I have a 3G iPhone. After 3 hrs twe...</td>\n",
              "      <td>iPhone</td>\n",
              "      <td>Negative emotion</td>\n",
              "    </tr>\n",
              "    <tr>\n",
              "      <th>1</th>\n",
              "      <td>@jessedee Know about @fludapp ? Awesome iPad/i...</td>\n",
              "      <td>iPad or iPhone App</td>\n",
              "      <td>Positive emotion</td>\n",
              "    </tr>\n",
              "    <tr>\n",
              "      <th>2</th>\n",
              "      <td>@swonderlin Can not wait for #iPad 2 also. The...</td>\n",
              "      <td>iPad</td>\n",
              "      <td>Positive emotion</td>\n",
              "    </tr>\n",
              "    <tr>\n",
              "      <th>3</th>\n",
              "      <td>@sxsw I hope this year's festival isn't as cra...</td>\n",
              "      <td>iPad or iPhone App</td>\n",
              "      <td>Negative emotion</td>\n",
              "    </tr>\n",
              "    <tr>\n",
              "      <th>4</th>\n",
              "      <td>@sxtxstate great stuff on Fri #SXSW: Marissa M...</td>\n",
              "      <td>Google</td>\n",
              "      <td>Positive emotion</td>\n",
              "    </tr>\n",
              "  </tbody>\n",
              "</table>\n",
              "</div>\n",
              "      <button class=\"colab-df-convert\" onclick=\"convertToInteractive('df-54f949f3-b71f-48e8-8d9d-75af7de87141')\"\n",
              "              title=\"Convert this dataframe to an interactive table.\"\n",
              "              style=\"display:none;\">\n",
              "        \n",
              "  <svg xmlns=\"http://www.w3.org/2000/svg\" height=\"24px\"viewBox=\"0 0 24 24\"\n",
              "       width=\"24px\">\n",
              "    <path d=\"M0 0h24v24H0V0z\" fill=\"none\"/>\n",
              "    <path d=\"M18.56 5.44l.94 2.06.94-2.06 2.06-.94-2.06-.94-.94-2.06-.94 2.06-2.06.94zm-11 1L8.5 8.5l.94-2.06 2.06-.94-2.06-.94L8.5 2.5l-.94 2.06-2.06.94zm10 10l.94 2.06.94-2.06 2.06-.94-2.06-.94-.94-2.06-.94 2.06-2.06.94z\"/><path d=\"M17.41 7.96l-1.37-1.37c-.4-.4-.92-.59-1.43-.59-.52 0-1.04.2-1.43.59L10.3 9.45l-7.72 7.72c-.78.78-.78 2.05 0 2.83L4 21.41c.39.39.9.59 1.41.59.51 0 1.02-.2 1.41-.59l7.78-7.78 2.81-2.81c.8-.78.8-2.07 0-2.86zM5.41 20L4 18.59l7.72-7.72 1.47 1.35L5.41 20z\"/>\n",
              "  </svg>\n",
              "      </button>\n",
              "      \n",
              "  <style>\n",
              "    .colab-df-container {\n",
              "      display:flex;\n",
              "      flex-wrap:wrap;\n",
              "      gap: 12px;\n",
              "    }\n",
              "\n",
              "    .colab-df-convert {\n",
              "      background-color: #E8F0FE;\n",
              "      border: none;\n",
              "      border-radius: 50%;\n",
              "      cursor: pointer;\n",
              "      display: none;\n",
              "      fill: #1967D2;\n",
              "      height: 32px;\n",
              "      padding: 0 0 0 0;\n",
              "      width: 32px;\n",
              "    }\n",
              "\n",
              "    .colab-df-convert:hover {\n",
              "      background-color: #E2EBFA;\n",
              "      box-shadow: 0px 1px 2px rgba(60, 64, 67, 0.3), 0px 1px 3px 1px rgba(60, 64, 67, 0.15);\n",
              "      fill: #174EA6;\n",
              "    }\n",
              "\n",
              "    [theme=dark] .colab-df-convert {\n",
              "      background-color: #3B4455;\n",
              "      fill: #D2E3FC;\n",
              "    }\n",
              "\n",
              "    [theme=dark] .colab-df-convert:hover {\n",
              "      background-color: #434B5C;\n",
              "      box-shadow: 0px 1px 3px 1px rgba(0, 0, 0, 0.15);\n",
              "      filter: drop-shadow(0px 1px 2px rgba(0, 0, 0, 0.3));\n",
              "      fill: #FFFFFF;\n",
              "    }\n",
              "  </style>\n",
              "\n",
              "      <script>\n",
              "        const buttonEl =\n",
              "          document.querySelector('#df-54f949f3-b71f-48e8-8d9d-75af7de87141 button.colab-df-convert');\n",
              "        buttonEl.style.display =\n",
              "          google.colab.kernel.accessAllowed ? 'block' : 'none';\n",
              "\n",
              "        async function convertToInteractive(key) {\n",
              "          const element = document.querySelector('#df-54f949f3-b71f-48e8-8d9d-75af7de87141');\n",
              "          const dataTable =\n",
              "            await google.colab.kernel.invokeFunction('convertToInteractive',\n",
              "                                                     [key], {});\n",
              "          if (!dataTable) return;\n",
              "\n",
              "          const docLinkHtml = 'Like what you see? Visit the ' +\n",
              "            '<a target=\"_blank\" href=https://colab.research.google.com/notebooks/data_table.ipynb>data table notebook</a>'\n",
              "            + ' to learn more about interactive tables.';\n",
              "          element.innerHTML = '';\n",
              "          dataTable['output_type'] = 'display_data';\n",
              "          await google.colab.output.renderOutput(dataTable, element);\n",
              "          const docLink = document.createElement('div');\n",
              "          docLink.innerHTML = docLinkHtml;\n",
              "          element.appendChild(docLink);\n",
              "        }\n",
              "      </script>\n",
              "    </div>\n",
              "  </div>\n",
              "  "
            ]
          },
          "metadata": {},
          "execution_count": 13
        }
      ]
    },
    {
      "cell_type": "code",
      "source": [
        "# Convert the data types to string\n",
        "df['tweet_text'] = df['tweet_text'].astype(str)\n",
        "df['brand_item'] = df['brand_item'].astype(str)"
      ],
      "metadata": {
        "id": "G2sV7idjwcC7"
      },
      "execution_count": 14,
      "outputs": []
    },
    {
      "cell_type": "code",
      "source": [
        "# Brand name mapping (similar to same category)\n",
        "brand = {'iPhone': 'apple',\n",
        "         'iPad or iPhone App':'apple',\n",
        "         'iPad': 'apple',\n",
        "         'Google': 'google',\n",
        "         'nan': 'UNK',\n",
        "         'Android':'google',\n",
        "         'Apple': 'apple',\n",
        "         'Android App':'google',\n",
        "         'Other Google product or service':'google',\n",
        "         'Other Apple product or service':'apple'\n",
        "        }\n",
        "\n",
        "df['brand_name'] = df['brand_item'].map(brand)"
      ],
      "metadata": {
        "id": "vRzS8lzkwiAl"
      },
      "execution_count": 15,
      "outputs": []
    },
    {
      "cell_type": "code",
      "source": [
        "# Encoding class label to brief\n",
        "label_encoder = {'Negative emotion': 'negative',\n",
        "                 'Positive emotion': 'positive',\n",
        "                 'No emotion toward brand or product': 'neutral',\n",
        "                 \"I can't tell\":'confused'}\n",
        "\n",
        "df['emotion'] = df['emotion'].map(label_encoder)\n"
      ],
      "metadata": {
        "id": "4nFBcL9WwySG"
      },
      "execution_count": 16,
      "outputs": []
    },
    {
      "cell_type": "code",
      "source": [
        "fig =  plt.figure(figsize=(12,6))\n",
        "sns.countplot(x='emotion', data=df,  \n",
        "              palette={'positive':'b', 'negative':'r', 'neutral':'g','confused':'m'}, alpha=0.7)\n",
        "plt.xlabel('Emotion', fontsize=15)\n",
        "plt.ylabel('Count', fontsize=15)"
      ],
      "metadata": {
        "colab": {
          "base_uri": "https://localhost:8080/",
          "height": 410
        },
        "id": "2dNnI8ONw_5w",
        "outputId": "ddd80742-bcc6-4bd0-c63b-6ba35b665c8d"
      },
      "execution_count": 18,
      "outputs": [
        {
          "output_type": "execute_result",
          "data": {
            "text/plain": [
              "Text(0, 0.5, 'Count')"
            ]
          },
          "metadata": {},
          "execution_count": 18
        },
        {
          "output_type": "display_data",
          "data": {
            "text/plain": [
              "<Figure size 864x432 with 1 Axes>"
            ],
            "image/png": "[encoded data removed]"
          },
          "metadata": {
            "needs_background": "light"
          }
        }
      ]
    },
    {
      "cell_type": "code",
      "source": [
        "fig =  plt.figure(figsize=(12,6))\n",
        "sns.countplot(x='brand_name', data=df)\n",
        "plt.xticks(rotation=45)"
      ],
      "metadata": {
        "colab": {
          "base_uri": "https://localhost:8080/",
          "height": 427
        },
        "id": "0ymvHFcExC1T",
        "outputId": "4b1a4d07-757d-4974-dd1f-231c8c146b16"
      },
      "execution_count": 19,
      "outputs": [
        {
          "output_type": "execute_result",
          "data": {
            "text/plain": [
              "(array([0, 1, 2]), <a list of 3 Text major ticklabel objects>)"
            ]
          },
          "metadata": {},
          "execution_count": 19
        },
        {
          "output_type": "display_data",
          "data": {
            "text/plain": [
              "<Figure size 864x432 with 1 Axes>"
            ],
            "image/png": "[encoded data removed]"
          },
          "metadata": {
            "needs_background": "light"
          }
        }
      ]
    },
    {
      "cell_type": "code",
      "source": [
        "plt.figure(figsize=(12,6))\n",
        "ax = sns.countplot(data=df, x = 'emotion', hue='brand_name')"
      ],
      "metadata": {
        "colab": {
          "base_uri": "https://localhost:8080/",
          "height": 388
        },
        "id": "urmunZTixKqq",
        "outputId": "db1dcacf-3c65-4c31-d16a-8b1df4adf31d"
      },
      "execution_count": 20,
      "outputs": [
        {
          "output_type": "display_data",
          "data": {
            "text/plain": [
              "<Figure size 864x432 with 1 Axes>"
            ],
            "image/png": "[encoded data removed]"
          },
          "metadata": {
            "needs_background": "light"
          }
        }
      ]
    },
    {
      "cell_type": "code",
      "source": [
        "## TEXT PROCESSING"
      ],
      "metadata": {
        "id": "O5avoxCAxxTl"
      },
      "execution_count": 21,
      "outputs": []
    },
    {
      "cell_type": "code",
      "source": [
        "df.tweet_text.head(10)"
      ],
      "metadata": {
        "colab": {
          "base_uri": "https://localhost:8080/"
        },
        "id": "1JiOhxt7xeHJ",
        "outputId": "aa865757-6b05-4140-8670-44a5f8a61ee1"
      },
      "execution_count": 22,
      "outputs": [
        {
          "output_type": "execute_result",
          "data": {
            "text/plain": [
              "0     .@wesley83 I have a 3G iPhone. After 3 hrs twe...\n",
              "1     @jessedee Know about @fludapp ? Awesome iPad/i...\n",
              "2     @swonderlin Can not wait for #iPad 2 also. The...\n",
              "3     @sxsw I hope this year's festival isn't as cra...\n",
              "4     @sxtxstate great stuff on Fri #SXSW: Marissa M...\n",
              "5     @teachntech00 New iPad Apps For #SpeechTherapy...\n",
              "7     #SXSW is just starting, #CTIA is around the co...\n",
              "8     Beautifully smart and simple idea RT @madebyma...\n",
              "9     Counting down the days to #sxsw plus strong Ca...\n",
              "10    Excited to meet the @samsungmobileus at #sxsw ...\n",
              "Name: tweet_text, dtype: object"
            ]
          },
          "metadata": {},
          "execution_count": 22
        }
      ]
    },
    {
      "cell_type": "code",
      "source": [
        "df_tt=df.tweet_text"
      ],
      "metadata": {
        "id": "aGTv5rxvx1JG"
      },
      "execution_count": 23,
      "outputs": []
    },
    {
      "cell_type": "code",
      "source": [
        " import nltk\n",
        " nltk.download('stopwords')"
      ],
      "metadata": {
        "colab": {
          "base_uri": "https://localhost:8080/"
        },
        "id": "H7vcIsixzd-K",
        "outputId": "a8793374-ac2d-4079-b6e1-b1ce11fc9524"
      },
      "execution_count": 24,
      "outputs": [
        {
          "output_type": "stream",
          "name": "stderr",
          "text": [
            "[nltk_data] Downloading package stopwords to /root/nltk_data...\n",
            "[nltk_data]   Package stopwords is already up-to-date!\n"
          ]
        },
        {
          "output_type": "execute_result",
          "data": {
            "text/plain": [
              "True"
            ]
          },
          "metadata": {},
          "execution_count": 24
        }
      ]
    },
    {
      "cell_type": "code",
      "source": [
        "nltk.download('wordnet')\n",
        "nltk.download('omw-1.4')"
      ],
      "metadata": {
        "colab": {
          "base_uri": "https://localhost:8080/"
        },
        "id": "Jtd8VFknz-Gl",
        "outputId": "e3156f05-6076-4fe6-94be-bf1623d26b75"
      },
      "execution_count": 25,
      "outputs": [
        {
          "output_type": "stream",
          "name": "stderr",
          "text": [
            "[nltk_data] Downloading package wordnet to /root/nltk_data...\n",
            "[nltk_data]   Package wordnet is already up-to-date!\n",
            "[nltk_data] Downloading package omw-1.4 to /root/nltk_data...\n",
            "[nltk_data]   Package omw-1.4 is already up-to-date!\n"
          ]
        },
        {
          "output_type": "execute_result",
          "data": {
            "text/plain": [
              "True"
            ]
          },
          "metadata": {},
          "execution_count": 25
        }
      ]
    },
    {
      "cell_type": "code",
      "source": [
        "import re\n",
        "import string\n",
        "\n",
        "data=df\n",
        "stopwords = nltk.corpus.stopwords.words('english')\n",
        "wn = nltk.WordNetLemmatizer()\n",
        "\n",
        "def clean_text(text):\n",
        "    text = \"\".join([word for word in text if word not in string.punctuation])\n",
        "    text_tokenize = re.split('\\W+', text)\n",
        "    text_nostop = [word for word in text_tokenize if word not in stopwords]\n",
        "    #text_stemm = [ps.stem(x) for x in text_nostop]\n",
        "    text_lemm = [wn.lemmatize(x) for x in text_nostop]\n",
        "    return text_lemm\n",
        "\n",
        "data['tweet_text_lemm'] = data['tweet_text'].apply(lambda x: clean_text(x.lower()))\n",
        "\n",
        "data.head()"
      ],
      "metadata": {
        "colab": {
          "base_uri": "https://localhost:8080/",
          "height": 206
        },
        "id": "sEbQ9PvpyWtA",
        "outputId": "df619570-cad1-4294-aead-fde9dd1bf496"
      },
      "execution_count": 26,
      "outputs": [
        {
          "output_type": "execute_result",
          "data": {
            "text/plain": [
              "                                          tweet_text          brand_item  \\\n",
              "0  .@wesley83 I have a 3G iPhone. After 3 hrs twe...              iPhone   \n",
              "1  @jessedee Know about @fludapp ? Awesome iPad/i...  iPad or iPhone App   \n",
              "2  @swonderlin Can not wait for #iPad 2 also. The...                iPad   \n",
              "3  @sxsw I hope this year's festival isn't as cra...  iPad or iPhone App   \n",
              "4  @sxtxstate great stuff on Fri #SXSW: Marissa M...              Google   \n",
              "\n",
              "    emotion brand_name                                    tweet_text_lemm  \n",
              "0  negative      apple  [wesley83, 3g, iphone, 3, hr, tweeting, riseau...  \n",
              "1  positive      apple  [jessedee, know, fludapp, awesome, ipadiphone,...  \n",
              "2  positive      apple      [swonderlin, wait, ipad, 2, also, sale, sxsw]  \n",
              "3  negative      apple  [sxsw, hope, year, festival, isnt, crashy, yea...  \n",
              "4  positive     google  [sxtxstate, great, stuff, fri, sxsw, marissa, ...  "
            ],
            "text/html": [
              "\n",
              "  <div id=\"df-f7a37562-d37e-4872-bcfd-1fd3dd5882a9\">\n",
              "    <div class=\"colab-df-container\">\n",
              "      <div>\n",
              "<style scoped>\n",
              "    .dataframe tbody tr th:only-of-type {\n",
              "        vertical-align: middle;\n",
              "    }\n",
              "\n",
              "    .dataframe tbody tr th {\n",
              "        vertical-align: top;\n",
              "    }\n",
              "\n",
              "    .dataframe thead th {\n",
              "        text-align: right;\n",
              "    }\n",
              "</style>\n",
              "<table border=\"1\" class=\"dataframe\">\n",
              "  <thead>\n",
              "    <tr style=\"text-align: right;\">\n",
              "      <th></th>\n",
              "      <th>tweet_text</th>\n",
              "      <th>brand_item</th>\n",
              "      <th>emotion</th>\n",
              "      <th>brand_name</th>\n",
              "      <th>tweet_text_lemm</th>\n",
              "    </tr>\n",
              "  </thead>\n",
              "  <tbody>\n",
              "    <tr>\n",
              "      <th>0</th>\n",
              "      <td>.@wesley83 I have a 3G iPhone. After 3 hrs twe...</td>\n",
              "      <td>iPhone</td>\n",
              "      <td>negative</td>\n",
              "      <td>apple</td>\n",
              "      <td>[wesley83, 3g, iphone, 3, hr, tweeting, riseau...</td>\n",
              "    </tr>\n",
              "    <tr>\n",
              "      <th>1</th>\n",
              "      <td>@jessedee Know about @fludapp ? Awesome iPad/i...</td>\n",
              "      <td>iPad or iPhone App</td>\n",
              "      <td>positive</td>\n",
              "      <td>apple</td>\n",
              "      <td>[jessedee, know, fludapp, awesome, ipadiphone,...</td>\n",
              "    </tr>\n",
              "    <tr>\n",
              "      <th>2</th>\n",
              "      <td>@swonderlin Can not wait for #iPad 2 also. The...</td>\n",
              "      <td>iPad</td>\n",
              "      <td>positive</td>\n",
              "      <td>apple</td>\n",
              "      <td>[swonderlin, wait, ipad, 2, also, sale, sxsw]</td>\n",
              "    </tr>\n",
              "    <tr>\n",
              "      <th>3</th>\n",
              "      <td>@sxsw I hope this year's festival isn't as cra...</td>\n",
              "      <td>iPad or iPhone App</td>\n",
              "      <td>negative</td>\n",
              "      <td>apple</td>\n",
              "      <td>[sxsw, hope, year, festival, isnt, crashy, yea...</td>\n",
              "    </tr>\n",
              "    <tr>\n",
              "      <th>4</th>\n",
              "      <td>@sxtxstate great stuff on Fri #SXSW: Marissa M...</td>\n",
              "      <td>Google</td>\n",
              "      <td>positive</td>\n",
              "      <td>google</td>\n",
              "      <td>[sxtxstate, great, stuff, fri, sxsw, marissa, ...</td>\n",
              "    </tr>\n",
              "  </tbody>\n",
              "</table>\n",
              "</div>\n",
              "      <button class=\"colab-df-convert\" onclick=\"convertToInteractive('df-f7a37562-d37e-4872-bcfd-1fd3dd5882a9')\"\n",
              "              title=\"Convert this dataframe to an interactive table.\"\n",
              "              style=\"display:none;\">\n",
              "        \n",
              "  <svg xmlns=\"http://www.w3.org/2000/svg\" height=\"24px\"viewBox=\"0 0 24 24\"\n",
              "       width=\"24px\">\n",
              "    <path d=\"M0 0h24v24H0V0z\" fill=\"none\"/>\n",
              "    <path d=\"M18.56 5.44l.94 2.06.94-2.06 2.06-.94-2.06-.94-.94-2.06-.94 2.06-2.06.94zm-11 1L8.5 8.5l.94-2.06 2.06-.94-2.06-.94L8.5 2.5l-.94 2.06-2.06.94zm10 10l.94 2.06.94-2.06 2.06-.94-2.06-.94-.94-2.06-.94 2.06-2.06.94z\"/><path d=\"M17.41 7.96l-1.37-1.37c-.4-.4-.92-.59-1.43-.59-.52 0-1.04.2-1.43.59L10.3 9.45l-7.72 7.72c-.78.78-.78 2.05 0 2.83L4 21.41c.39.39.9.59 1.41.59.51 0 1.02-.2 1.41-.59l7.78-7.78 2.81-2.81c.8-.78.8-2.07 0-2.86zM5.41 20L4 18.59l7.72-7.72 1.47 1.35L5.41 20z\"/>\n",
              "  </svg>\n",
              "      </button>\n",
              "      \n",
              "  <style>\n",
              "    .colab-df-container {\n",
              "      display:flex;\n",
              "      flex-wrap:wrap;\n",
              "      gap: 12px;\n",
              "    }\n",
              "\n",
              "    .colab-df-convert {\n",
              "      background-color: #E8F0FE;\n",
              "      border: none;\n",
              "      border-radius: 50%;\n",
              "      cursor: pointer;\n",
              "      display: none;\n",
              "      fill: #1967D2;\n",
              "      height: 32px;\n",
              "      padding: 0 0 0 0;\n",
              "      width: 32px;\n",
              "    }\n",
              "\n",
              "    .colab-df-convert:hover {\n",
              "      background-color: #E2EBFA;\n",
              "      box-shadow: 0px 1px 2px rgba(60, 64, 67, 0.3), 0px 1px 3px 1px rgba(60, 64, 67, 0.15);\n",
              "      fill: #174EA6;\n",
              "    }\n",
              "\n",
              "    [theme=dark] .colab-df-convert {\n",
              "      background-color: #3B4455;\n",
              "      fill: #D2E3FC;\n",
              "    }\n",
              "\n",
              "    [theme=dark] .colab-df-convert:hover {\n",
              "      background-color: #434B5C;\n",
              "      box-shadow: 0px 1px 3px 1px rgba(0, 0, 0, 0.15);\n",
              "      filter: drop-shadow(0px 1px 2px rgba(0, 0, 0, 0.3));\n",
              "      fill: #FFFFFF;\n",
              "    }\n",
              "  </style>\n",
              "\n",
              "      <script>\n",
              "        const buttonEl =\n",
              "          document.querySelector('#df-f7a37562-d37e-4872-bcfd-1fd3dd5882a9 button.colab-df-convert');\n",
              "        buttonEl.style.display =\n",
              "          google.colab.kernel.accessAllowed ? 'block' : 'none';\n",
              "\n",
              "        async function convertToInteractive(key) {\n",
              "          const element = document.querySelector('#df-f7a37562-d37e-4872-bcfd-1fd3dd5882a9');\n",
              "          const dataTable =\n",
              "            await google.colab.kernel.invokeFunction('convertToInteractive',\n",
              "                                                     [key], {});\n",
              "          if (!dataTable) return;\n",
              "\n",
              "          const docLinkHtml = 'Like what you see? Visit the ' +\n",
              "            '<a target=\"_blank\" href=https://colab.research.google.com/notebooks/data_table.ipynb>data table notebook</a>'\n",
              "            + ' to learn more about interactive tables.';\n",
              "          element.innerHTML = '';\n",
              "          dataTable['output_type'] = 'display_data';\n",
              "          await google.colab.output.renderOutput(dataTable, element);\n",
              "          const docLink = document.createElement('div');\n",
              "          docLink.innerHTML = docLinkHtml;\n",
              "          element.appendChild(docLink);\n",
              "        }\n",
              "      </script>\n",
              "    </div>\n",
              "  </div>\n",
              "  "
            ]
          },
          "metadata": {},
          "execution_count": 26
        }
      ]
    },
    {
      "cell_type": "code",
      "source": [
        "from sklearn.feature_extraction.text import CountVectorizer\n",
        "\n",
        "count_vect = CountVectorizer(analyzer=clean_text)\n",
        "X_counts = count_vect.fit_transform(data['tweet_text'])\n",
        "print(X_counts.shape)\n",
        "#print(count_vect.get_feature_names())\n",
        "print(count_vect.get_feature_names_out())"
      ],
      "metadata": {
        "colab": {
          "base_uri": "https://localhost:8080/"
        },
        "id": "n_xKx3i30PVr",
        "outputId": "05f157e2-8d89-453f-f3a7-a41ac2ac1965"
      },
      "execution_count": 27,
      "outputs": [
        {
          "output_type": "stream",
          "name": "stdout",
          "text": [
            "(9065, 12763)\n",
            "['' '0' '02' ... 'ë' 'öÝ' 'ü']\n"
          ]
        }
      ]
    },
    {
      "cell_type": "code",
      "source": [
        "X_counts_df = pd.DataFrame(X_counts.toarray())\n",
        "X_counts_df.columns = count_vect.get_feature_names()\n",
        "X_counts_df"
      ],
      "metadata": {
        "colab": {
          "base_uri": "https://localhost:8080/",
          "height": 478
        },
        "id": "lczfwexf0Uul",
        "outputId": "1e462abb-f4cb-499e-cc98-3575eaa397cc"
      },
      "execution_count": 28,
      "outputs": [
        {
          "output_type": "stream",
          "name": "stderr",
          "text": [
            "/usr/local/lib/python3.8/dist-packages/sklearn/utils/deprecation.py:87: FutureWarning: Function get_feature_names is deprecated; get_feature_names is deprecated in 1.0 and will be removed in 1.2. Please use get_feature_names_out instead.\n",
            "  warnings.warn(msg, category=FutureWarning)\n"
          ]
        },
        {
          "output_type": "execute_result",
          "data": {
            "text/plain": [
              "         0  02  03  0310  0310apple  031111  031211  031311  031411  ...  âã  \\\n",
              "0     0  0   0   0     0          0       0       0       0       0  ...   0   \n",
              "1     0  0   0   0     0          0       0       0       0       0  ...   0   \n",
              "2     0  0   0   0     0          0       0       0       0       0  ...   0   \n",
              "3     0  0   0   0     0          0       0       0       0       0  ...   0   \n",
              "4     0  0   0   0     0          0       0       0       0       0  ...   0   \n",
              "...  .. ..  ..  ..   ...        ...     ...     ...     ...     ...  ...  ..   \n",
              "9060  0  0   0   0     0          0       0       0       0       0  ...   0   \n",
              "9061  0  0   0   0     0          0       0       0       0       0  ...   0   \n",
              "9062  0  0   0   0     0          0       0       0       0       0  ...   0   \n",
              "9063  0  0   0   0     0          0       0       0       0       0  ...   0   \n",
              "9064  1  0   0   0     0          0       0       0       0       0  ...   0   \n",
              "\n",
              "      ã  äÁ  å  åÇ  åÇwhats  åÈ  ë  öÝ  ü  \n",
              "0     0   0  0   0        0   0  0   0  0  \n",
              "1     0   0  0   0        0   0  0   0  0  \n",
              "2     0   0  0   0        0   0  0   0  0  \n",
              "3     0   0  0   0        0   0  0   0  0  \n",
              "4     0   0  0   0        0   0  0   0  0  \n",
              "...  ..  .. ..  ..      ...  .. ..  .. ..  \n",
              "9060  0   0  0   0        0   0  0   0  0  \n",
              "9061  0   0  0   0        0   0  0   0  0  \n",
              "9062  0   0  0   0        0   0  0   0  0  \n",
              "9063  0   0  0   0        0   0  0   0  0  \n",
              "9064  0   0  0   0        0   0  0   0  1  \n",
              "\n",
              "[9065 rows x 12763 columns]"
            ],
            "text/html": [
              "\n",
              "  <div id=\"df-dceacf21-1ce4-45e8-9ab9-c593c1bb0991\">\n",
              "    <div class=\"colab-df-container\">\n",
              "      <div>\n",
              "<style scoped>\n",
              "    .dataframe tbody tr th:only-of-type {\n",
              "        vertical-align: middle;\n",
              "    }\n",
              "\n",
              "    .dataframe tbody tr th {\n",
              "        vertical-align: top;\n",
              "    }\n",
              "\n",
              "    .dataframe thead th {\n",
              "        text-align: right;\n",
              "    }\n",
              "</style>\n",
              "<table border=\"1\" class=\"dataframe\">\n",
              "  <thead>\n",
              "    <tr style=\"text-align: right;\">\n",
              "      <th></th>\n",
              "      <th></th>\n",
              "      <th>0</th>\n",
              "      <th>02</th>\n",
              "      <th>03</th>\n",
              "      <th>0310</th>\n",
              "      <th>0310apple</th>\n",
              "      <th>031111</th>\n",
              "      <th>031211</th>\n",
              "      <th>031311</th>\n",
              "      <th>031411</th>\n",
              "      <th>...</th>\n",
              "      <th>âã</th>\n",
              "      <th>ã</th>\n",
              "      <th>äÁ</th>\n",
              "      <th>å</th>\n",
              "      <th>åÇ</th>\n",
              "      <th>åÇwhats</th>\n",
              "      <th>åÈ</th>\n",
              "      <th>ë</th>\n",
              "      <th>öÝ</th>\n",
              "      <th>ü</th>\n",
              "    </tr>\n",
              "  </thead>\n",
              "  <tbody>\n",
              "    <tr>\n",
              "      <th>0</th>\n",
              "      <td>0</td>\n",
              "      <td>0</td>\n",
              "      <td>0</td>\n",
              "      <td>0</td>\n",
              "      <td>0</td>\n",
              "      <td>0</td>\n",
              "      <td>0</td>\n",
              "      <td>0</td>\n",
              "      <td>0</td>\n",
              "      <td>0</td>\n",
              "      <td>...</td>\n",
              "      <td>0</td>\n",
              "      <td>0</td>\n",
              "      <td>0</td>\n",
              "      <td>0</td>\n",
              "      <td>0</td>\n",
              "      <td>0</td>\n",
              "      <td>0</td>\n",
              "      <td>0</td>\n",
              "      <td>0</td>\n",
              "      <td>0</td>\n",
              "    </tr>\n",
              "    <tr>\n",
              "      <th>1</th>\n",
              "      <td>0</td>\n",
              "      <td>0</td>\n",
              "      <td>0</td>\n",
              "      <td>0</td>\n",
              "      <td>0</td>\n",
              "      <td>0</td>\n",
              "      <td>0</td>\n",
              "      <td>0</td>\n",
              "      <td>0</td>\n",
              "      <td>0</td>\n",
              "      <td>...</td>\n",
              "      <td>0</td>\n",
              "      <td>0</td>\n",
              "      <td>0</td>\n",
              "      <td>0</td>\n",
              "      <td>0</td>\n",
              "      <td>0</td>\n",
              "      <td>0</td>\n",
              "      <td>0</td>\n",
              "      <td>0</td>\n",
              "      <td>0</td>\n",
              "    </tr>\n",
              "    <tr>\n",
              "      <th>2</th>\n",
              "      <td>0</td>\n",
              "      <td>0</td>\n",
              "      <td>0</td>\n",
              "      <td>0</td>\n",
              "      <td>0</td>\n",
              "      <td>0</td>\n",
              "      <td>0</td>\n",
              "      <td>0</td>\n",
              "      <td>0</td>\n",
              "      <td>0</td>\n",
              "      <td>...</td>\n",
              "      <td>0</td>\n",
              "      <td>0</td>\n",
              "      <td>0</td>\n",
              "      <td>0</td>\n",
              "      <td>0</td>\n",
              "      <td>0</td>\n",
              "      <td>0</td>\n",
              "      <td>0</td>\n",
              "      <td>0</td>\n",
              "      <td>0</td>\n",
              "    </tr>\n",
              "    <tr>\n",
              "      <th>3</th>\n",
              "      <td>0</td>\n",
              "      <td>0</td>\n",
              "      <td>0</td>\n",
              "      <td>0</td>\n",
              "      <td>0</td>\n",
              "      <td>0</td>\n",
              "      <td>0</td>\n",
              "      <td>0</td>\n",
              "      <td>0</td>\n",
              "      <td>0</td>\n",
              "      <td>...</td>\n",
              "      <td>0</td>\n",
              "      <td>0</td>\n",
              "      <td>0</td>\n",
              "      <td>0</td>\n",
              "      <td>0</td>\n",
              "      <td>0</td>\n",
              "      <td>0</td>\n",
              "      <td>0</td>\n",
              "      <td>0</td>\n",
              "      <td>0</td>\n",
              "    </tr>\n",
              "    <tr>\n",
              "      <th>4</th>\n",
              "      <td>0</td>\n",
              "      <td>0</td>\n",
              "      <td>0</td>\n",
              "      <td>0</td>\n",
              "      <td>0</td>\n",
              "      <td>0</td>\n",
              "      <td>0</td>\n",
              "      <td>0</td>\n",
              "      <td>0</td>\n",
              "      <td>0</td>\n",
              "      <td>...</td>\n",
              "      <td>0</td>\n",
              "      <td>0</td>\n",
              "      <td>0</td>\n",
              "      <td>0</td>\n",
              "      <td>0</td>\n",
              "      <td>0</td>\n",
              "      <td>0</td>\n",
              "      <td>0</td>\n",
              "      <td>0</td>\n",
              "      <td>0</td>\n",
              "    </tr>\n",
              "    <tr>\n",
              "      <th>...</th>\n",
              "      <td>...</td>\n",
              "      <td>...</td>\n",
              "      <td>...</td>\n",
              "      <td>...</td>\n",
              "      <td>...</td>\n",
              "      <td>...</td>\n",
              "      <td>...</td>\n",
              "      <td>...</td>\n",
              "      <td>...</td>\n",
              "      <td>...</td>\n",
              "      <td>...</td>\n",
              "      <td>...</td>\n",
              "      <td>...</td>\n",
              "      <td>...</td>\n",
              "      <td>...</td>\n",
              "      <td>...</td>\n",
              "      <td>...</td>\n",
              "      <td>...</td>\n",
              "      <td>...</td>\n",
              "      <td>...</td>\n",
              "      <td>...</td>\n",
              "    </tr>\n",
              "    <tr>\n",
              "      <th>9060</th>\n",
              "      <td>0</td>\n",
              "      <td>0</td>\n",
              "      <td>0</td>\n",
              "      <td>0</td>\n",
              "      <td>0</td>\n",
              "      <td>0</td>\n",
              "      <td>0</td>\n",
              "      <td>0</td>\n",
              "      <td>0</td>\n",
              "      <td>0</td>\n",
              "      <td>...</td>\n",
              "      <td>0</td>\n",
              "      <td>0</td>\n",
              "      <td>0</td>\n",
              "      <td>0</td>\n",
              "      <td>0</td>\n",
              "      <td>0</td>\n",
              "      <td>0</td>\n",
              "      <td>0</td>\n",
              "      <td>0</td>\n",
              "      <td>0</td>\n",
              "    </tr>\n",
              "    <tr>\n",
              "      <th>9061</th>\n",
              "      <td>0</td>\n",
              "      <td>0</td>\n",
              "      <td>0</td>\n",
              "      <td>0</td>\n",
              "      <td>0</td>\n",
              "      <td>0</td>\n",
              "      <td>0</td>\n",
              "      <td>0</td>\n",
              "      <td>0</td>\n",
              "      <td>0</td>\n",
              "      <td>...</td>\n",
              "      <td>0</td>\n",
              "      <td>0</td>\n",
              "      <td>0</td>\n",
              "      <td>0</td>\n",
              "      <td>0</td>\n",
              "      <td>0</td>\n",
              "      <td>0</td>\n",
              "      <td>0</td>\n",
              "      <td>0</td>\n",
              "      <td>0</td>\n",
              "    </tr>\n",
              "    <tr>\n",
              "      <th>9062</th>\n",
              "      <td>0</td>\n",
              "      <td>0</td>\n",
              "      <td>0</td>\n",
              "      <td>0</td>\n",
              "      <td>0</td>\n",
              "      <td>0</td>\n",
              "      <td>0</td>\n",
              "      <td>0</td>\n",
              "      <td>0</td>\n",
              "      <td>0</td>\n",
              "      <td>...</td>\n",
              "      <td>0</td>\n",
              "      <td>0</td>\n",
              "      <td>0</td>\n",
              "      <td>0</td>\n",
              "      <td>0</td>\n",
              "      <td>0</td>\n",
              "      <td>0</td>\n",
              "      <td>0</td>\n",
              "      <td>0</td>\n",
              "      <td>0</td>\n",
              "    </tr>\n",
              "    <tr>\n",
              "      <th>9063</th>\n",
              "      <td>0</td>\n",
              "      <td>0</td>\n",
              "      <td>0</td>\n",
              "      <td>0</td>\n",
              "      <td>0</td>\n",
              "      <td>0</td>\n",
              "      <td>0</td>\n",
              "      <td>0</td>\n",
              "      <td>0</td>\n",
              "      <td>0</td>\n",
              "      <td>...</td>\n",
              "      <td>0</td>\n",
              "      <td>0</td>\n",
              "      <td>0</td>\n",
              "      <td>0</td>\n",
              "      <td>0</td>\n",
              "      <td>0</td>\n",
              "      <td>0</td>\n",
              "      <td>0</td>\n",
              "      <td>0</td>\n",
              "      <td>0</td>\n",
              "    </tr>\n",
              "    <tr>\n",
              "      <th>9064</th>\n",
              "      <td>1</td>\n",
              "      <td>0</td>\n",
              "      <td>0</td>\n",
              "      <td>0</td>\n",
              "      <td>0</td>\n",
              "      <td>0</td>\n",
              "      <td>0</td>\n",
              "      <td>0</td>\n",
              "      <td>0</td>\n",
              "      <td>0</td>\n",
              "      <td>...</td>\n",
              "      <td>0</td>\n",
              "      <td>0</td>\n",
              "      <td>0</td>\n",
              "      <td>0</td>\n",
              "      <td>0</td>\n",
              "      <td>0</td>\n",
              "      <td>0</td>\n",
              "      <td>0</td>\n",
              "      <td>0</td>\n",
              "      <td>1</td>\n",
              "    </tr>\n",
              "  </tbody>\n",
              "</table>\n",
              "<p>9065 rows × 12763 columns</p>\n",
              "</div>\n",
              "      <button class=\"colab-df-convert\" onclick=\"convertToInteractive('df-dceacf21-1ce4-45e8-9ab9-c593c1bb0991')\"\n",
              "              title=\"Convert this dataframe to an interactive table.\"\n",
              "              style=\"display:none;\">\n",
              "        \n",
              "  <svg xmlns=\"http://www.w3.org/2000/svg\" height=\"24px\"viewBox=\"0 0 24 24\"\n",
              "       width=\"24px\">\n",
              "    <path d=\"M0 0h24v24H0V0z\" fill=\"none\"/>\n",
              "    <path d=\"M18.56 5.44l.94 2.06.94-2.06 2.06-.94-2.06-.94-.94-2.06-.94 2.06-2.06.94zm-11 1L8.5 8.5l.94-2.06 2.06-.94-2.06-.94L8.5 2.5l-.94 2.06-2.06.94zm10 10l.94 2.06.94-2.06 2.06-.94-2.06-.94-.94-2.06-.94 2.06-2.06.94z\"/><path d=\"M17.41 7.96l-1.37-1.37c-.4-.4-.92-.59-1.43-.59-.52 0-1.04.2-1.43.59L10.3 9.45l-7.72 7.72c-.78.78-.78 2.05 0 2.83L4 21.41c.39.39.9.59 1.41.59.51 0 1.02-.2 1.41-.59l7.78-7.78 2.81-2.81c.8-.78.8-2.07 0-2.86zM5.41 20L4 18.59l7.72-7.72 1.47 1.35L5.41 20z\"/>\n",
              "  </svg>\n",
              "      </button>\n",
              "      \n",
              "  <style>\n",
              "    .colab-df-container {\n",
              "      display:flex;\n",
              "      flex-wrap:wrap;\n",
              "      gap: 12px;\n",
              "    }\n",
              "\n",
              "    .colab-df-convert {\n",
              "      background-color: #E8F0FE;\n",
              "      border: none;\n",
              "      border-radius: 50%;\n",
              "      cursor: pointer;\n",
              "      display: none;\n",
              "      fill: #1967D2;\n",
              "      height: 32px;\n",
              "      padding: 0 0 0 0;\n",
              "      width: 32px;\n",
              "    }\n",
              "\n",
              "    .colab-df-convert:hover {\n",
              "      background-color: #E2EBFA;\n",
              "      box-shadow: 0px 1px 2px rgba(60, 64, 67, 0.3), 0px 1px 3px 1px rgba(60, 64, 67, 0.15);\n",
              "      fill: #174EA6;\n",
              "    }\n",
              "\n",
              "    [theme=dark] .colab-df-convert {\n",
              "      background-color: #3B4455;\n",
              "      fill: #D2E3FC;\n",
              "    }\n",
              "\n",
              "    [theme=dark] .colab-df-convert:hover {\n",
              "      background-color: #434B5C;\n",
              "      box-shadow: 0px 1px 3px 1px rgba(0, 0, 0, 0.15);\n",
              "      filter: drop-shadow(0px 1px 2px rgba(0, 0, 0, 0.3));\n",
              "      fill: #FFFFFF;\n",
              "    }\n",
              "  </style>\n",
              "\n",
              "      <script>\n",
              "        const buttonEl =\n",
              "          document.querySelector('#df-dceacf21-1ce4-45e8-9ab9-c593c1bb0991 button.colab-df-convert');\n",
              "        buttonEl.style.display =\n",
              "          google.colab.kernel.accessAllowed ? 'block' : 'none';\n",
              "\n",
              "        async function convertToInteractive(key) {\n",
              "          const element = document.querySelector('#df-dceacf21-1ce4-45e8-9ab9-c593c1bb0991');\n",
              "          const dataTable =\n",
              "            await google.colab.kernel.invokeFunction('convertToInteractive',\n",
              "                                                     [key], {});\n",
              "          if (!dataTable) return;\n",
              "\n",
              "          const docLinkHtml = 'Like what you see? Visit the ' +\n",
              "            '<a target=\"_blank\" href=https://colab.research.google.com/notebooks/data_table.ipynb>data table notebook</a>'\n",
              "            + ' to learn more about interactive tables.';\n",
              "          element.innerHTML = '';\n",
              "          dataTable['output_type'] = 'display_data';\n",
              "          await google.colab.output.renderOutput(dataTable, element);\n",
              "          const docLink = document.createElement('div');\n",
              "          docLink.innerHTML = docLinkHtml;\n",
              "          element.appendChild(docLink);\n",
              "        }\n",
              "      </script>\n",
              "    </div>\n",
              "  </div>\n",
              "  "
            ]
          },
          "metadata": {},
          "execution_count": 28
        }
      ]
    },
    {
      "cell_type": "code",
      "source": [
        "## CNN-LSTM"
      ],
      "metadata": {
        "id": "q_-BrLdJ08Sh"
      },
      "execution_count": 29,
      "outputs": []
    },
    {
      "cell_type": "code",
      "source": [
        "X = X_counts_df\n",
        "y_ohe = pd.get_dummies(df['emotion'])\n"
      ],
      "metadata": {
        "id": "aTJDWqrO1Q27"
      },
      "execution_count": 30,
      "outputs": []
    },
    {
      "cell_type": "code",
      "source": [
        "X.shape,y_ohe.shape"
      ],
      "metadata": {
        "colab": {
          "base_uri": "https://localhost:8080/"
        },
        "id": "egKuTXbL1Z4q",
        "outputId": "89214080-6ca3-466f-99bf-46e38eb91cc8"
      },
      "execution_count": 31,
      "outputs": [
        {
          "output_type": "execute_result",
          "data": {
            "text/plain": [
              "((9065, 12763), (9065, 4))"
            ]
          },
          "metadata": {},
          "execution_count": 31
        }
      ]
    },
    {
      "cell_type": "code",
      "source": [
        "from sklearn.model_selection import train_test_split\n",
        "\n",
        "X_train, X_test, y_train, y_test = train_test_split(X, y_ohe, test_size=0.10, stratify=y_ohe,\n",
        "                                                    random_state=42)\n",
        "X_train, X_val, y_train, y_val = train_test_split(X_train, y_train, test_size=0.15, stratify=y_train,\n",
        "                                                  random_state=42)\n",
        "X_train.shape, X_val.shape, X_test.shape, y_train.shape, y_val.shape, y_test.shape"
      ],
      "metadata": {
        "colab": {
          "base_uri": "https://localhost:8080/"
        },
        "id": "cRgeE6gr1gE4",
        "outputId": "0e59f5d1-72b6-424a-d4a2-76fddf56ebe4"
      },
      "execution_count": 32,
      "outputs": [
        {
          "output_type": "execute_result",
          "data": {
            "text/plain": [
              "((6934, 12763), (1224, 12763), (907, 12763), (6934, 4), (1224, 4), (907, 4))"
            ]
          },
          "metadata": {},
          "execution_count": 32
        }
      ]
    },
    {
      "cell_type": "code",
      "source": [
        "train_x = np.asarray(X_train)\n",
        "train_y = np.asarray(y_train)\n",
        "validation_x = np.asarray(X_val)\n",
        "validation_y = np.asarray(y_val)\n",
        "train_x = train_x.reshape((train_x.shape[0],1,train_x.shape[1]))\n",
        "validation_x = validation_x.reshape((validation_x.shape[0],1,validation_x.shape[1]))\n",
        "train_x.shape, validation_x.shape"
      ],
      "metadata": {
        "colab": {
          "base_uri": "https://localhost:8080/"
        },
        "id": "NUvsxNtF5sIn",
        "outputId": "a925c3a6-a3d4-40cb-c57a-9fc66fc4814b"
      },
      "execution_count": 34,
      "outputs": [
        {
          "output_type": "execute_result",
          "data": {
            "text/plain": [
              "((6934, 1, 12763), (1224, 1, 12763))"
            ]
          },
          "metadata": {},
          "execution_count": 34
        }
      ]
    },
    {
      "cell_type": "code",
      "source": [
        "from keras.layers.regularization.dropout import Dropout\n",
        "import keras\n",
        "from keras.models import Sequential\n",
        "from keras.layers import Dense\n",
        "from keras.layers import LSTM\n",
        "from keras.layers import BatchNormalization\n",
        "from keras.layers import MaxPooling2D\n",
        "\n",
        "model = Sequential()\n",
        "model.add(LSTM(150, activation='relu', input_shape=(1,train_x.shape[2])))\n",
        "model.add(BatchNormalization())\n",
        "model.add(Dense(100, activation='relu'))\n",
        "model.add(Dropout(0.2))\n",
        "model.add(Dense(30, activation='relu'))\n",
        "model.add(Dropout(0.2))\n",
        "model.add(Dense(4, activation='softmax'))\n",
        "model.compile(loss='categorical_crossentropy', optimizer='adam', metrics=['accuracy'])\n",
        "print(model.summary())"
      ],
      "metadata": {
        "colab": {
          "base_uri": "https://localhost:8080/"
        },
        "id": "jncfSmSN5Nr6",
        "outputId": "849bc204-8204-4cf6-a909-6142dc180d4d"
      },
      "execution_count": 37,
      "outputs": [
        {
          "output_type": "stream",
          "name": "stderr",
          "text": [
            "WARNING:tensorflow:Layer lstm_1 will not use cuDNN kernels since it doesn't meet the criteria. It will use a generic GPU kernel as fallback when running on GPU.\n"
          ]
        },
        {
          "output_type": "stream",
          "name": "stdout",
          "text": [
            "Model: \"sequential_1\"\n",
            "_________________________________________________________________\n",
            " Layer (type)                Output Shape              Param #   \n",
            "=================================================================\n",
            " lstm_1 (LSTM)               (None, 150)               7748400   \n",
            "                                                                 \n",
            " batch_normalization_1 (Batc  (None, 150)              600       \n",
            " hNormalization)                                                 \n",
            "                                                                 \n",
            " dense_3 (Dense)             (None, 100)               15100     \n",
            "                                                                 \n",
            " dropout_2 (Dropout)         (None, 100)               0         \n",
            "                                                                 \n",
            " dense_4 (Dense)             (None, 30)                3030      \n",
            "                                                                 \n",
            " dropout_3 (Dropout)         (None, 30)                0         \n",
            "                                                                 \n",
            " dense_5 (Dense)             (None, 4)                 124       \n",
            "                                                                 \n",
            "=================================================================\n",
            "Total params: 7,767,254\n",
            "Trainable params: 7,766,954\n",
            "Non-trainable params: 300\n",
            "_________________________________________________________________\n",
            "None\n"
          ]
        }
      ]
    },
    {
      "cell_type": "code",
      "source": [
        "history1=model.fit(train_x,train_y,batch_size=32, epochs=50,verbose=2,validation_data=(validation_x, validation_y ))"
      ],
      "metadata": {
        "colab": {
          "base_uri": "https://localhost:8080/"
        },
        "id": "V60U1sXn-WA1",
        "outputId": "09d19ec4-53ef-442c-890e-e040ce3d185c"
      },
      "execution_count": 38,
      "outputs": [
        {
          "output_type": "stream",
          "name": "stdout",
          "text": [
            "Epoch 1/50\n",
            "217/217 - 4s - loss: 0.9152 - accuracy: 0.6024 - val_loss: 0.9986 - val_accuracy: 0.6258 - 4s/epoch - 18ms/step\n",
            "Epoch 2/50\n",
            "217/217 - 2s - loss: 0.5610 - accuracy: 0.7835 - val_loss: 0.8502 - val_accuracy: 0.6667 - 2s/epoch - 8ms/step\n",
            "Epoch 3/50\n",
            "217/217 - 2s - loss: 0.3433 - accuracy: 0.8714 - val_loss: 0.9286 - val_accuracy: 0.6503 - 2s/epoch - 8ms/step\n",
            "Epoch 4/50\n",
            "217/217 - 3s - loss: 0.2386 - accuracy: 0.9071 - val_loss: 1.2792 - val_accuracy: 0.6520 - 3s/epoch - 15ms/step\n",
            "Epoch 5/50\n",
            "217/217 - 2s - loss: 0.1843 - accuracy: 0.9260 - val_loss: 1.5320 - val_accuracy: 0.6422 - 2s/epoch - 11ms/step\n",
            "Epoch 6/50\n",
            "217/217 - 2s - loss: 0.1717 - accuracy: 0.9335 - val_loss: 1.5842 - val_accuracy: 0.6413 - 2s/epoch - 8ms/step\n",
            "Epoch 7/50\n",
            "217/217 - 2s - loss: 0.1471 - accuracy: 0.9363 - val_loss: 1.8092 - val_accuracy: 0.6258 - 2s/epoch - 8ms/step\n",
            "Epoch 8/50\n",
            "217/217 - 2s - loss: 0.1494 - accuracy: 0.9391 - val_loss: 1.8930 - val_accuracy: 0.6422 - 2s/epoch - 8ms/step\n",
            "Epoch 9/50\n",
            "217/217 - 2s - loss: 0.1333 - accuracy: 0.9469 - val_loss: 1.8983 - val_accuracy: 0.6446 - 2s/epoch - 10ms/step\n",
            "Epoch 10/50\n",
            "217/217 - 2s - loss: 0.1099 - accuracy: 0.9582 - val_loss: 1.9883 - val_accuracy: 0.6438 - 2s/epoch - 8ms/step\n",
            "Epoch 11/50\n",
            "217/217 - 2s - loss: 0.1035 - accuracy: 0.9590 - val_loss: 2.1579 - val_accuracy: 0.6340 - 2s/epoch - 8ms/step\n",
            "Epoch 12/50\n",
            "217/217 - 2s - loss: 0.0979 - accuracy: 0.9605 - val_loss: 1.9995 - val_accuracy: 0.6438 - 2s/epoch - 8ms/step\n",
            "Epoch 13/50\n",
            "217/217 - 2s - loss: 0.0905 - accuracy: 0.9639 - val_loss: 2.3050 - val_accuracy: 0.6430 - 2s/epoch - 8ms/step\n",
            "Epoch 14/50\n",
            "217/217 - 2s - loss: 0.0919 - accuracy: 0.9652 - val_loss: 2.1078 - val_accuracy: 0.6413 - 2s/epoch - 10ms/step\n",
            "Epoch 15/50\n",
            "217/217 - 2s - loss: 0.0801 - accuracy: 0.9690 - val_loss: 2.1560 - val_accuracy: 0.6373 - 2s/epoch - 10ms/step\n",
            "Epoch 16/50\n",
            "217/217 - 2s - loss: 0.0699 - accuracy: 0.9722 - val_loss: 2.4742 - val_accuracy: 0.6438 - 2s/epoch - 8ms/step\n",
            "Epoch 17/50\n",
            "217/217 - 2s - loss: 0.0665 - accuracy: 0.9756 - val_loss: 2.4765 - val_accuracy: 0.6381 - 2s/epoch - 8ms/step\n",
            "Epoch 18/50\n",
            "217/217 - 3s - loss: 0.0680 - accuracy: 0.9749 - val_loss: 2.4480 - val_accuracy: 0.6364 - 3s/epoch - 12ms/step\n",
            "Epoch 19/50\n",
            "217/217 - 3s - loss: 0.0667 - accuracy: 0.9761 - val_loss: 2.5151 - val_accuracy: 0.6381 - 3s/epoch - 12ms/step\n",
            "Epoch 20/50\n",
            "217/217 - 3s - loss: 0.0551 - accuracy: 0.9800 - val_loss: 2.6745 - val_accuracy: 0.6356 - 3s/epoch - 16ms/step\n",
            "Epoch 21/50\n",
            "217/217 - 3s - loss: 0.0576 - accuracy: 0.9784 - val_loss: 2.6036 - val_accuracy: 0.6340 - 3s/epoch - 15ms/step\n",
            "Epoch 22/50\n",
            "217/217 - 2s - loss: 0.0551 - accuracy: 0.9788 - val_loss: 2.7977 - val_accuracy: 0.6373 - 2s/epoch - 11ms/step\n",
            "Epoch 23/50\n",
            "217/217 - 3s - loss: 0.0500 - accuracy: 0.9795 - val_loss: 2.7671 - val_accuracy: 0.6381 - 3s/epoch - 13ms/step\n",
            "Epoch 24/50\n",
            "217/217 - 3s - loss: 0.0480 - accuracy: 0.9837 - val_loss: 2.7770 - val_accuracy: 0.6520 - 3s/epoch - 15ms/step\n",
            "Epoch 25/50\n",
            "217/217 - 2s - loss: 0.0614 - accuracy: 0.9800 - val_loss: 2.5980 - val_accuracy: 0.6275 - 2s/epoch - 11ms/step\n",
            "Epoch 26/50\n",
            "217/217 - 3s - loss: 0.0478 - accuracy: 0.9813 - val_loss: 2.6827 - val_accuracy: 0.6258 - 3s/epoch - 12ms/step\n",
            "Epoch 27/50\n",
            "217/217 - 2s - loss: 0.0492 - accuracy: 0.9811 - val_loss: 2.8193 - val_accuracy: 0.6471 - 2s/epoch - 9ms/step\n",
            "Epoch 28/50\n",
            "217/217 - 2s - loss: 0.0500 - accuracy: 0.9828 - val_loss: 2.6399 - val_accuracy: 0.6454 - 2s/epoch - 10ms/step\n",
            "Epoch 29/50\n",
            "217/217 - 2s - loss: 0.0433 - accuracy: 0.9838 - val_loss: 2.9826 - val_accuracy: 0.6381 - 2s/epoch - 10ms/step\n",
            "Epoch 30/50\n",
            "217/217 - 2s - loss: 0.0479 - accuracy: 0.9831 - val_loss: 2.9662 - val_accuracy: 0.6176 - 2s/epoch - 11ms/step\n",
            "Epoch 31/50\n",
            "217/217 - 2s - loss: 0.0447 - accuracy: 0.9823 - val_loss: 2.7795 - val_accuracy: 0.6364 - 2s/epoch - 8ms/step\n",
            "Epoch 32/50\n",
            "217/217 - 2s - loss: 0.0439 - accuracy: 0.9838 - val_loss: 2.9273 - val_accuracy: 0.6364 - 2s/epoch - 8ms/step\n",
            "Epoch 33/50\n",
            "217/217 - 2s - loss: 0.0428 - accuracy: 0.9838 - val_loss: 2.8291 - val_accuracy: 0.6307 - 2s/epoch - 8ms/step\n",
            "Epoch 34/50\n",
            "217/217 - 2s - loss: 0.0334 - accuracy: 0.9869 - val_loss: 3.1311 - val_accuracy: 0.6242 - 2s/epoch - 8ms/step\n",
            "Epoch 35/50\n",
            "217/217 - 2s - loss: 0.0372 - accuracy: 0.9866 - val_loss: 2.9266 - val_accuracy: 0.6348 - 2s/epoch - 8ms/step\n",
            "Epoch 36/50\n",
            "217/217 - 2s - loss: 0.0374 - accuracy: 0.9867 - val_loss: 3.1021 - val_accuracy: 0.6340 - 2s/epoch - 8ms/step\n",
            "Epoch 37/50\n",
            "217/217 - 2s - loss: 0.0395 - accuracy: 0.9859 - val_loss: 3.0443 - val_accuracy: 0.6364 - 2s/epoch - 8ms/step\n",
            "Epoch 38/50\n",
            "217/217 - 2s - loss: 0.0392 - accuracy: 0.9857 - val_loss: 2.9015 - val_accuracy: 0.6348 - 2s/epoch - 8ms/step\n",
            "Epoch 39/50\n",
            "217/217 - 2s - loss: 0.0315 - accuracy: 0.9875 - val_loss: 3.0373 - val_accuracy: 0.6356 - 2s/epoch - 11ms/step\n",
            "Epoch 40/50\n",
            "217/217 - 2s - loss: 0.0353 - accuracy: 0.9870 - val_loss: 2.9232 - val_accuracy: 0.6242 - 2s/epoch - 9ms/step\n",
            "Epoch 41/50\n",
            "217/217 - 3s - loss: 0.0338 - accuracy: 0.9880 - val_loss: 3.0822 - val_accuracy: 0.6405 - 3s/epoch - 16ms/step\n",
            "Epoch 42/50\n",
            "217/217 - 3s - loss: 0.0346 - accuracy: 0.9875 - val_loss: 2.9592 - val_accuracy: 0.6397 - 3s/epoch - 12ms/step\n",
            "Epoch 43/50\n",
            "217/217 - 2s - loss: 0.0409 - accuracy: 0.9866 - val_loss: 2.9733 - val_accuracy: 0.6209 - 2s/epoch - 11ms/step\n",
            "Epoch 44/50\n",
            "217/217 - 2s - loss: 0.0373 - accuracy: 0.9860 - val_loss: 3.2143 - val_accuracy: 0.6315 - 2s/epoch - 8ms/step\n",
            "Epoch 45/50\n",
            "217/217 - 2s - loss: 0.0320 - accuracy: 0.9872 - val_loss: 3.1439 - val_accuracy: 0.6266 - 2s/epoch - 8ms/step\n",
            "Epoch 46/50\n",
            "217/217 - 2s - loss: 0.0308 - accuracy: 0.9885 - val_loss: 3.1462 - val_accuracy: 0.6348 - 2s/epoch - 8ms/step\n",
            "Epoch 47/50\n",
            "217/217 - 2s - loss: 0.0324 - accuracy: 0.9879 - val_loss: 3.0940 - val_accuracy: 0.6364 - 2s/epoch - 8ms/step\n",
            "Epoch 48/50\n",
            "217/217 - 2s - loss: 0.0319 - accuracy: 0.9879 - val_loss: 3.1416 - val_accuracy: 0.6307 - 2s/epoch - 8ms/step\n",
            "Epoch 49/50\n",
            "217/217 - 2s - loss: 0.0274 - accuracy: 0.9900 - val_loss: 3.2783 - val_accuracy: 0.6307 - 2s/epoch - 8ms/step\n",
            "Epoch 50/50\n",
            "217/217 - 2s - loss: 0.0258 - accuracy: 0.9909 - val_loss: 3.3639 - val_accuracy: 0.6356 - 2s/epoch - 8ms/step\n"
          ]
        }
      ]
    },
    {
      "cell_type": "code",
      "source": [
        "metrics='accuracy'\n",
        "plt.plot(history1.history[metrics])\n",
        "plt.plot(history1.history['val_'+ metrics])\n",
        "plt.xlabel('Epochs')\n",
        "plt.ylabel(metrics)\n",
        "plt.legend(['training', 'test'], loc='upper right')\n",
        "plt.show()"
      ],
      "metadata": {
        "colab": {
          "base_uri": "https://localhost:8080/",
          "height": 279
        },
        "id": "Pq8BeHEf997E",
        "outputId": "d972e4aa-3209-4311-d2e6-2b24a19af4f3"
      },
      "execution_count": 41,
      "outputs": [
        {
          "output_type": "display_data",
          "data": {
            "text/plain": [
              "<Figure size 432x288 with 1 Axes>"
            ],
            "image/png": "[encoded data removed]"
          },
          "metadata": {
            "needs_background": "light"
          }
        }
      ]
    },
    {
      "cell_type": "code",
      "source": [
        "test_x=np.asarray(X_test)\n",
        "test_x=test_x.reshape((test_x.shape[0],1,test_x.shape[1]))\n",
        "test_y = np.asarray(y_test)\n",
        "\n",
        "y_pred = model.predict(test_x)\n",
        "y_pred"
      ],
      "metadata": {
        "colab": {
          "base_uri": "https://localhost:8080/"
        },
        "id": "sbjHN5j13cq_",
        "outputId": "5d091b12-5c43-4668-9c17-1e54c55bd5d1"
      },
      "execution_count": 42,
      "outputs": [
        {
          "output_type": "stream",
          "name": "stdout",
          "text": [
            "29/29 [==============================] - 0s 3ms/step\n"
          ]
        },
        {
          "output_type": "execute_result",
          "data": {
            "text/plain": [
              "array([[6.4903717e-14, 1.0285638e-12, 2.0836577e-08, 1.0000000e+00],\n",
              "       [8.7047248e-08, 2.2534823e-02, 1.3618774e-03, 9.7610325e-01],\n",
              "       [2.3981640e-08, 6.8097989e-08, 2.0773947e-02, 9.7922587e-01],\n",
              "       ...,\n",
              "       [2.2040085e-09, 3.7847653e-10, 9.9964821e-01, 3.5173021e-04],\n",
              "       [4.8852075e-06, 3.6567175e-03, 9.9546403e-01, 8.7431527e-04],\n",
              "       [6.5140816e-11, 9.4217696e-11, 9.9999416e-01, 5.8623727e-06]],\n",
              "      dtype=float32)"
            ]
          },
          "metadata": {},
          "execution_count": 42
        }
      ]
    },
    {
      "cell_type": "code",
      "source": [
        "test_y"
      ],
      "metadata": {
        "colab": {
          "base_uri": "https://localhost:8080/"
        },
        "id": "-cV0p1VCFdAq",
        "outputId": "52d7a1a6-7fa5-41fe-9835-afcff05c70b3"
      },
      "execution_count": 46,
      "outputs": [
        {
          "output_type": "execute_result",
          "data": {
            "text/plain": [
              "array([2, 1, 2, 3, 3, 3, 3, 2, 2, 2, 2, 2, 3, 3, 2, 0, 2, 2, 2, 2, 3, 2,\n",
              "       2, 3, 2, 2, 3, 2, 3, 2, 2, 2, 2, 2, 3, 2, 2, 2, 2, 2, 2, 3, 3, 2,\n",
              "       3, 2, 2, 1, 3, 3, 2, 1, 2, 2, 2, 2, 3, 2, 1, 2, 2, 2, 3, 2, 3, 2,\n",
              "       3, 2, 2, 2, 2, 2, 2, 2, 2, 3, 2, 2, 0, 2, 3, 3, 3, 0, 3, 2, 2, 3,\n",
              "       2, 2, 3, 2, 3, 2, 3, 3, 2, 2, 3, 2, 2, 3, 2, 1, 3, 3, 2, 2, 3, 2,\n",
              "       2, 2, 3, 2, 1, 2, 2, 2, 2, 3, 2, 2, 2, 2, 0, 1, 3, 2, 2, 3, 2, 2,\n",
              "       2, 2, 2, 2, 2, 2, 3, 2, 2, 2, 3, 3, 3, 2, 1, 3, 2, 3, 2, 3, 3, 2,\n",
              "       2, 2, 2, 3, 2, 3, 3, 3, 3, 3, 3, 3, 2, 2, 2, 3, 2, 1, 2, 2, 3, 2,\n",
              "       2, 3, 1, 2, 2, 2, 3, 2, 3, 3, 1, 3, 1, 3, 2, 2, 3, 3, 1, 3, 2, 3,\n",
              "       3, 2, 2, 2, 2, 3, 3, 2, 2, 2, 2, 2, 3, 2, 2, 3, 2, 3, 2, 1, 3, 2,\n",
              "       2, 3, 3, 2, 2, 3, 2, 3, 2, 2, 2, 2, 2, 3, 2, 2, 2, 2, 2, 3, 3, 3,\n",
              "       3, 2, 2, 2, 2, 3, 2, 2, 2, 2, 3, 2, 2, 2, 3, 2, 2, 2, 3, 2, 2, 3,\n",
              "       2, 2, 2, 3, 0, 3, 2, 2, 0, 2, 2, 3, 2, 1, 3, 3, 2, 2, 3, 1, 2, 3,\n",
              "       3, 3, 3, 2, 3, 2, 2, 2, 3, 2, 2, 2, 2, 3, 2, 2, 2, 2, 3, 2, 2, 2,\n",
              "       2, 2, 2, 2, 2, 3, 0, 2, 2, 2, 3, 2, 2, 3, 2, 3, 2, 2, 2, 3, 1, 2,\n",
              "       2, 1, 3, 2, 2, 3, 3, 2, 3, 1, 2, 3, 2, 2, 3, 2, 2, 1, 2, 2, 3, 2,\n",
              "       2, 2, 2, 3, 1, 2, 1, 2, 3, 2, 3, 2, 3, 3, 2, 2, 2, 2, 2, 3, 2, 2,\n",
              "       3, 3, 2, 2, 1, 3, 2, 2, 2, 0, 2, 2, 2, 3, 3, 2, 2, 3, 2, 3, 2, 2,\n",
              "       2, 2, 2, 3, 2, 3, 1, 3, 3, 2, 1, 2, 1, 3, 2, 2, 2, 2, 3, 2, 2, 1,\n",
              "       2, 2, 3, 2, 3, 3, 2, 3, 3, 2, 2, 2, 2, 2, 3, 2, 3, 2, 1, 2, 2, 3,\n",
              "       2, 2, 3, 2, 2, 2, 3, 2, 2, 3, 2, 2, 2, 2, 2, 3, 3, 2, 2, 2, 3, 2,\n",
              "       2, 2, 3, 3, 2, 2, 2, 2, 3, 2, 2, 2, 2, 3, 3, 2, 3, 3, 3, 3, 3, 2,\n",
              "       2, 1, 2, 3, 2, 2, 2, 3, 3, 1, 2, 1, 3, 3, 2, 2, 2, 2, 2, 3, 3, 2,\n",
              "       2, 3, 2, 2, 1, 2, 2, 2, 3, 2, 2, 2, 2, 2, 0, 2, 3, 3, 2, 2, 2, 3,\n",
              "       2, 2, 3, 2, 3, 2, 2, 2, 2, 2, 2, 2, 3, 2, 3, 2, 3, 3, 3, 2, 3, 3,\n",
              "       3, 2, 3, 2, 2, 2, 2, 3, 2, 3, 3, 2, 2, 2, 2, 2, 3, 2, 2, 2, 2, 2,\n",
              "       2, 3, 3, 2, 3, 3, 1, 3, 3, 3, 2, 2, 3, 2, 1, 2, 1, 3, 2, 2, 1, 3,\n",
              "       3, 3, 2, 2, 3, 3, 2, 2, 2, 2, 3, 2, 2, 3, 3, 2, 3, 1, 2, 2, 3, 2,\n",
              "       2, 3, 2, 2, 2, 1, 2, 2, 2, 3, 2, 1, 3, 3, 2, 2, 2, 2, 3, 2, 1, 3,\n",
              "       2, 2, 2, 3, 3, 2, 2, 1, 3, 2, 3, 1, 2, 3, 2, 2, 3, 2, 3, 2, 2, 2,\n",
              "       2, 1, 2, 2, 3, 0, 2, 1, 2, 2, 2, 2, 3, 2, 1, 3, 2, 1, 2, 3, 2, 2,\n",
              "       2, 3, 3, 3, 2, 2, 1, 2, 2, 2, 2, 0, 2, 2, 2, 2, 3, 2, 2, 3, 2, 3,\n",
              "       3, 3, 2, 1, 3, 2, 2, 2, 2, 0, 2, 2, 2, 3, 2, 3, 2, 3, 3, 2, 2, 1,\n",
              "       2, 3, 2, 2, 3, 3, 3, 2, 2, 2, 3, 3, 3, 3, 1, 3, 1, 3, 2, 3, 2, 3,\n",
              "       2, 2, 3, 2, 3, 3, 3, 3, 2, 3, 2, 2, 3, 2, 1, 3, 3, 2, 3, 2, 2, 0,\n",
              "       2, 3, 3, 3, 2, 2, 2, 2, 2, 2, 3, 2, 2, 3, 2, 0, 1, 2, 2, 2, 2, 3,\n",
              "       1, 3, 3, 2, 2, 2, 2, 3, 2, 2, 3, 2, 2, 3, 2, 3, 2, 2, 2, 3, 1, 3,\n",
              "       0, 2, 2, 2, 2, 2, 2, 3, 2, 2, 2, 2, 3, 3, 2, 3, 2, 2, 2, 3, 2, 2,\n",
              "       2, 1, 2, 3, 3, 2, 2, 3, 3, 2, 3, 3, 3, 2, 3, 1, 2, 2, 3, 3, 2, 2,\n",
              "       2, 2, 2, 3, 2, 2, 2, 2, 3, 2, 3, 2, 2, 2, 2, 0, 2, 2, 2, 2, 3, 2,\n",
              "       2, 2, 3, 2, 2, 3, 2, 2, 2, 3, 2, 2, 2, 2, 3, 2, 2, 2, 3, 2, 3, 2,\n",
              "       3, 2, 2, 3, 3])"
            ]
          },
          "metadata": {},
          "execution_count": 46
        }
      ]
    },
    {
      "cell_type": "code",
      "source": [
        "from sklearn.metrics import accuracy_score,confusion_matrix,classification_report\n",
        "\n",
        "test_pred=np.argmax(y_pred,axis=1)\n",
        "\n",
        "def plot_conf(ypred,y_test):\n",
        "    cf_matrix = confusion_matrix( ypred,y_test)\n",
        "    ax= plt.subplot()\n",
        "    sns.heatmap(cf_matrix,annot=True,ax=ax, cmap=\"BuPu\")\n",
        "    ax.set_xlabel('Predicted labels')\n",
        "    ax.set_ylabel('True labels')\n",
        "    ax.set_title('Confusion Matrix')\n",
        "plot_conf(test_pred,test_y)    "
      ],
      "metadata": {
        "colab": {
          "base_uri": "https://localhost:8080/",
          "height": 295
        },
        "id": "Yjr6YAJIE9MY",
        "outputId": "ff45b4c9-eae3-4be5-d647-3beb690ed833"
      },
      "execution_count": 47,
      "outputs": [
        {
          "output_type": "display_data",
          "data": {
            "text/plain": [
              "<Figure size 432x288 with 2 Axes>"
            ],
            "image/png": "[encoded data removed]"
          },
          "metadata": {
            "needs_background": "light"
          }
        }
      ]
    }
  ]
}